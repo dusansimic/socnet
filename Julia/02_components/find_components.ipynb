{
 "cells": [
  {
   "cell_type": "code",
   "execution_count": 1,
   "metadata": {},
   "outputs": [],
   "source": [
    "using ParserCombinator\n",
    "using Graphs\n",
    "using GraphIO\n",
    "using DataStructures"
   ]
  },
  {
   "cell_type": "code",
   "execution_count": 2,
   "metadata": {},
   "outputs": [
    {
     "data": {
      "text/plain": [
       "{38, 135} undirected simple Int64 graph"
      ]
     },
     "metadata": {},
     "output_type": "display_data"
    }
   ],
   "source": [
    "g = loadgraph(\"../01_loading_graphs/starwars-episode-1-interactions-allCharacters.gml\", \"graph\", GMLFormat())"
   ]
  },
  {
   "cell_type": "code",
   "execution_count": 3,
   "metadata": {},
   "outputs": [
    {
     "data": {
      "text/plain": [
       "1-element Vector{Vector{Int64}}:\n",
       " [1, 25, 26, 29, 19, 38, 37, 17, 13, 36  …  15, 11, 12, 3, 9, 8, 7, 5, 4, 14]"
      ]
     },
     "metadata": {},
     "output_type": "display_data"
    }
   ],
   "source": [
    "using Graphs\n",
    "\n",
    "function _dfs_component(g::SimpleGraph, v::Int64, visited::Dict{Int64, Bool})\n",
    "  stack = Stack{Int64}()\n",
    "  component = Vector{Int64}()\n",
    "\n",
    "  push!(stack, v)\n",
    "\n",
    "  while !isempty(stack)\n",
    "    curr = pop!(stack)\n",
    "    if !visited[curr]\n",
    "      visited[curr] = true\n",
    "      append!(component, [curr])\n",
    "      for v in neighbors(g, curr)\n",
    "        push!(stack, v)\n",
    "      end\n",
    "    end\n",
    "  end\n",
    "\n",
    "  component\n",
    "end\n",
    "\n",
    "function dfs_components(g::SimpleGraph)\n",
    "  visited = Dict{Int64, Bool}(v => false for v in vertices(g))\n",
    "  components = Vector{Vector{Int64}}()\n",
    "\n",
    "  for v in vertices(g)\n",
    "    append!(components, [_dfs_component(g, v, visited)])\n",
    "  end\n",
    "\n",
    "  filter!(c -> length(c) > 0, components)\n",
    "\n",
    "  components\n",
    "end\n",
    "\n",
    "dfs_components(g)"
   ]
  },
  {
   "cell_type": "code",
   "execution_count": 4,
   "metadata": {},
   "outputs": [
    {
     "data": {
      "text/plain": [
       "1-element Vector{Vector{Int64}}:\n",
       " [1, 2, 16, 18, 19, 23, 25, 3, 5, 6  …  37, 38, 7, 8, 9, 24, 36, 4, 35, 14]"
      ]
     },
     "metadata": {},
     "output_type": "display_data"
    }
   ],
   "source": [
    "using Graphs\n",
    "using DataStructures\n",
    "\n",
    "function _bfs_component(g::SimpleGraph, v::Int64, visited::Dict{Int64, Bool})\n",
    "  queue = Queue{Int64}()\n",
    "  component = Vector{Int64}()\n",
    "\n",
    "  enqueue!(queue, v)\n",
    "\n",
    "  while !isempty(queue)\n",
    "    curr = dequeue!(queue)\n",
    "    if !visited[curr]\n",
    "      visited[curr] = true\n",
    "      append!(component, [curr])\n",
    "      for v in neighbors(g, curr)\n",
    "        enqueue!(queue, v)\n",
    "      end\n",
    "    end\n",
    "  end\n",
    "\n",
    "  component\n",
    "end\n",
    "\n",
    "function bfs_components(g::SimpleGraph)\n",
    "  visited = Dict{Int64, Bool}(v => false for v in vertices(g))\n",
    "  components = Vector{Vector{Int64}}()\n",
    "\n",
    "  for v in vertices(g)\n",
    "    append!(components, [_bfs_component(g, v, visited)])\n",
    "  end\n",
    "\n",
    "  filter!(c -> length(c) > 0, components)\n",
    "\n",
    "  components\n",
    "end\n",
    "\n",
    "bfs_components(g)"
   ]
  }
 ],
 "metadata": {
  "kernelspec": {
   "display_name": "Julia 1.9.1",
   "language": "julia",
   "name": "julia-1.9"
  },
  "language_info": {
   "file_extension": ".jl",
   "mimetype": "application/julia",
   "name": "julia",
   "version": "1.9.1"
  },
  "orig_nbformat": 4
 },
 "nbformat": 4,
 "nbformat_minor": 2
}
