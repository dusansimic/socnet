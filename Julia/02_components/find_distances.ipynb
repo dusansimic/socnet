{
 "cells": [
  {
   "cell_type": "code",
   "execution_count": 1,
   "metadata": {},
   "outputs": [
    {
     "data": {
      "text/plain": [
       "{38, 135} undirected simple Int64 graph"
      ]
     },
     "metadata": {},
     "output_type": "display_data"
    }
   ],
   "source": [
    "using ParserCombinator\n",
    "using Graphs\n",
    "using GraphIO\n",
    "\n",
    "g = loadgraph(\"../01_loading_graphs/starwars-episode-1-interactions-allCharacters.gml\", \"graph\", GMLFormat())"
   ]
  },
  {
   "cell_type": "code",
   "execution_count": 16,
   "metadata": {},
   "outputs": [
    {
     "data": {
      "text/plain": [
       "38×38 Matrix{Float64}:\n",
       " 0.0  1.0  2.0  3.0  2.0  2.0  3.0  3.0  …  2.0  2.0  2.0  3.0  3.0  2.0  2.0\n",
       " 1.0  0.0  1.0  2.0  1.0  1.0  2.0  2.0     1.0  1.0  1.0  2.0  2.0  2.0  2.0\n",
       " 2.0  1.0  0.0  2.0  1.0  2.0  1.0  1.0     2.0  2.0  2.0  2.0  1.0  3.0  3.0\n",
       " 3.0  2.0  2.0  0.0  1.0  2.0  2.0  3.0     3.0  3.0  3.0  4.0  3.0  4.0  4.0\n",
       " 2.0  1.0  1.0  1.0  0.0  1.0  1.0  2.0     2.0  2.0  2.0  3.0  2.0  3.0  3.0\n",
       " 2.0  1.0  2.0  2.0  1.0  0.0  2.0  3.0  …  1.0  1.0  2.0  3.0  2.0  2.0  2.0\n",
       " 3.0  2.0  1.0  2.0  1.0  2.0  0.0  2.0     3.0  3.0  3.0  3.0  2.0  4.0  4.0\n",
       " 3.0  2.0  1.0  3.0  2.0  3.0  2.0  0.0     3.0  3.0  3.0  2.0  2.0  4.0  4.0\n",
       " 3.0  2.0  1.0  3.0  2.0  3.0  1.0  1.0     3.0  3.0  3.0  3.0  2.0  4.0  4.0\n",
       " 2.0  1.0  1.0  3.0  2.0  2.0  2.0  1.0     2.0  2.0  2.0  1.0  1.0  3.0  3.0\n",
       " ⋮                        ⋮              ⋱                      ⋮         \n",
       " 2.0  1.0  2.0  3.0  2.0  2.0  3.0  2.0     2.0  2.0  2.0  1.0  2.0  3.0  3.0\n",
       " 2.0  1.0  2.0  3.0  2.0  1.0  3.0  3.0  …  1.0  1.0  1.0  3.0  3.0  2.0  2.0\n",
       " 2.0  1.0  2.0  3.0  2.0  1.0  3.0  3.0     0.0  1.0  1.0  3.0  3.0  2.0  2.0\n",
       " 2.0  1.0  2.0  3.0  2.0  1.0  3.0  3.0     1.0  0.0  1.0  3.0  3.0  2.0  2.0\n",
       " 2.0  1.0  2.0  3.0  2.0  2.0  3.0  3.0     1.0  1.0  0.0  3.0  3.0  2.0  2.0\n",
       " 3.0  2.0  2.0  4.0  3.0  3.0  3.0  2.0     3.0  3.0  3.0  0.0  2.0  4.0  4.0\n",
       " 3.0  2.0  1.0  3.0  2.0  2.0  2.0  2.0  …  3.0  3.0  3.0  2.0  0.0  3.0  3.0\n",
       " 2.0  2.0  3.0  4.0  3.0  2.0  4.0  4.0     2.0  2.0  2.0  4.0  3.0  0.0  1.0\n",
       " 2.0  2.0  3.0  4.0  3.0  2.0  4.0  4.0     2.0  2.0  2.0  4.0  3.0  1.0  0.0"
      ]
     },
     "metadata": {},
     "output_type": "display_data"
    }
   ],
   "source": [
    "using Graphs\n",
    "using DataStructures\n",
    "\n",
    "function _bfs_distance(g::SimpleGraph, v::Int64, D::Matrix{Float64})\n",
    "  queue = Queue{Int64}()\n",
    "  visited = Dict{Int64, Bool}(v => false for v in vertices(g))\n",
    "\n",
    "  visited[v] = true\n",
    "  enqueue!(queue, v)\n",
    "\n",
    "  while !isempty(queue)\n",
    "    curr = dequeue!(queue)\n",
    "\n",
    "    for w in neighbors(g, curr)\n",
    "      if D[v, w] > D[v, curr] + 1\n",
    "        D[v, w] = D[w, v] = D[v, curr] + 1\n",
    "      end\n",
    "\n",
    "      if !visited[w]\n",
    "        visited[w] = true\n",
    "        enqueue!(queue, w)\n",
    "      else\n",
    "      end\n",
    "    end\n",
    "  end\n",
    "end\n",
    "\n",
    "function bfs_distances(g::SimpleGraph)\n",
    "  D = zeros(Float64, nv(g), nv(g))\n",
    "\n",
    "  for (x, y) in [(x, y) for x in vertices(g), y in vertices(g)]\n",
    "    D[x, y] = D[y, x] = x == y ? 0 : Inf64\n",
    "  end\n",
    "\n",
    "  for v in vertices(g)\n",
    "    _bfs_distance(g, v, D)\n",
    "  end\n",
    "\n",
    "  D\n",
    "end\n",
    "\n",
    "bfs_distances(g)"
   ]
  },
  {
   "cell_type": "code",
   "execution_count": 19,
   "metadata": {},
   "outputs": [
    {
     "data": {
      "text/plain": [
       "([0.0 1.0 … 2.0 2.0; 1.0 0.0 … 2.0 2.0; … ; 2.0 2.0 … 0.0 1.0; 2.0 2.0 … 1.0 0.0], [Int64[] Int64[] … [19] [19]; Int64[] Int64[] … [17] [17]; … ; [19] [17] … Int64[] Int64[]; [19] [17] … Int64[] Int64[]])"
      ]
     },
     "metadata": {},
     "output_type": "display_data"
    }
   ],
   "source": [
    "using Graphs\n",
    "using DataStructures\n",
    "\n",
    "function _bfs_shortest_path(g::SimpleGraph, v::Int64, D::Matrix{Float64}, P::Matrix{Vector{Int64}})\n",
    "  queue = Queue{Vector{Int64}}()\n",
    "  visited = Dict{Int64, Bool}(v => false for v in vertices(g))\n",
    "\n",
    "  visited[v] = true\n",
    "  enqueue!(queue, [v])\n",
    "\n",
    "  while !isempty(queue)\n",
    "    current_path = dequeue!(queue)\n",
    "    last_of_current_path = last(current_path)\n",
    "\n",
    "    for w in neighbors(g, last_of_current_path)\n",
    "      new_path = Vector{Int64}()\n",
    "      copy!(new_path, current_path)\n",
    "      append!(new_path, [w])\n",
    "\n",
    "      if D[v, w] > D[v, last_of_current_path] + 1\n",
    "        D[v, w] = D[w, v] = D[v, last_of_current_path] + 1\n",
    "        P[v, w] = P[w, v] = new_path[2:end-1]\n",
    "      end\n",
    "\n",
    "      if !visited[w]\n",
    "        visited[w] = true\n",
    "        enqueue!(queue, new_path)\n",
    "      end\n",
    "    end\n",
    "  end\n",
    "end\n",
    "\n",
    "function bfs_shortest_paths(g::SimpleGraph)\n",
    "  D = zeros(Float64, nv(g), nv(g))\n",
    "  P = Array{Vector{Int64}}(undef, nv(g), nv(g))\n",
    "  for (x, y) in [(x, y) for x in vertices(g), y in vertices(g)]\n",
    "    P[x, y] = P[y, x] = Vector{Int64}()\n",
    "  end\n",
    "\n",
    "  for (x, y) in [(x, y) for x in vertices(g), y in vertices(g)]\n",
    "    D[x, y] = D[y, x] = x == y ? 0 : Inf64\n",
    "  end\n",
    "\n",
    "  for v in vertices(g)\n",
    "    _bfs_shortest_path(g, v, D, P)\n",
    "  end\n",
    "\n",
    "  D, P\n",
    "end\n",
    "\n",
    "bfs_shortest_paths(g)\n"
   ]
  }
 ],
 "metadata": {
  "kernelspec": {
   "display_name": "Julia 1.9.1",
   "language": "julia",
   "name": "julia-1.9"
  },
  "language_info": {
   "file_extension": ".jl",
   "mimetype": "application/julia",
   "name": "julia",
   "version": "1.9.1"
  },
  "orig_nbformat": 4
 },
 "nbformat": 4,
 "nbformat_minor": 2
}
