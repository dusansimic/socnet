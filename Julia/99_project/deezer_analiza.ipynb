{
 "cells": [
  {
   "cell_type": "code",
   "execution_count": null,
   "metadata": {},
   "outputs": [],
   "source": [
    "using Pkg\n",
    "Pkg.activate(\"../..\")\n",
    "Pkg.instantiate()"
   ]
  },
  {
   "cell_type": "markdown",
   "metadata": {},
   "source": [
    "# Deezer network\n",
    "\n",
    "Nodes: 28281\n",
    "\n",
    "Edges: 92752\n",
    "\n",
    "Source: https://snap.stanford.edu/data/feather-deezer-social.html"
   ]
  },
  {
   "cell_type": "code",
   "execution_count": null,
   "metadata": {},
   "outputs": [],
   "source": [
    "using JLD2\n",
    "\n",
    "core_num = load_object(\"deezer_out/deezer_core_num.jld2\")\n",
    "deg = load_object(\"deezer_out/deezer_degree.jld2\")\n",
    "betw = load_object(\"deezer_out/deezer_betweenness.jld2\")\n",
    "clos = load_object(\"deezer_out/deezer_closeness.jld2\")\n",
    "\n",
    "pearson_correlations = load_object(\"deezer_out/deezer_pearson_correlation.jld2\")\n",
    "spearman_correlations = load_object(\"deezer_out/deezer_spearman_correlation.jld2\")\n",
    "\n",
    "characteristics = load_object(\"deezer_out/deezer_characteristics.jld2\")"
   ]
  },
  {
   "cell_type": "code",
   "execution_count": null,
   "metadata": {},
   "outputs": [],
   "source": [
    "pearson_correlations"
   ]
  },
  {
   "cell_type": "code",
   "execution_count": null,
   "metadata": {},
   "outputs": [],
   "source": [
    "spearman_correlations"
   ]
  },
  {
   "cell_type": "code",
   "execution_count": null,
   "metadata": {},
   "outputs": [],
   "source": [
    "using Plots\n",
    "\n",
    "heatmap([\"core number\", \"degree\", \"betweenness\", \"closeness\"], [\"core number\", \"degree\", \"betweenness\", \"closeness\"], pearson_correlations, c=:blues)\n",
    "# Plots.svg(\"deezer_plots/pearson_correlation.svg\")\n",
    "Plots.png(\"deezer_plots/pearson_correlation.png\")"
   ]
  },
  {
   "cell_type": "code",
   "execution_count": null,
   "metadata": {},
   "outputs": [],
   "source": [
    "using Plots\n",
    "\n",
    "plot_shell_deg = scatter(core_num, deg, xlabel=\"core number\", ylabel=\"degree\", legend=false)\n",
    "plot_shell_betw = scatter(core_num, betw, xlabel=\"core number\", ylabel=\"betweenness\", legend=false)\n",
    "plot_shell_clos = scatter(core_num, clos, xlabel=\"core number\", ylabel=\"closeness\", legend=false)\n",
    "\n",
    "shell_plot = plot(plot_shell_deg, plot_shell_betw, plot_shell_clos, layout=(1, 3), size=(1200, 400))\n",
    "\n",
    "# Plots.svg(\"deezer_plots/shell_plot.svg\")\n",
    "Plots.png(\"deezer_plots/shell_plot.png\")"
   ]
  },
  {
   "cell_type": "code",
   "execution_count": null,
   "metadata": {},
   "outputs": [],
   "source": [
    "using Plots\n",
    "\n",
    "heatmap([\"core number\", \"degree\", \"betweenness\", \"closeness\"], [\"core number\", \"degree\", \"betweenness\", \"closeness\"], spearman_correlations, c=:blues)\n",
    "\n",
    "# Plots.svg(\"deezer_plots/spearman_correlation.svg\")\n",
    "Plots.png(\"deezer_plots/spearman_correlation.png\")"
   ]
  },
  {
   "cell_type": "code",
   "execution_count": null,
   "metadata": {},
   "outputs": [],
   "source": [
    "ks = map(x -> convert(Int64, x), characteristics[1, :])\n",
    "\n",
    "nums_nodes = map(x -> convert(Int64, x), characteristics[2, :])\n",
    "nums_edges = map(x -> convert(Int64, x), characteristics[3, :])\n",
    "graph_densities = characteristics[4, :]\n",
    "nums_connected_components = map(x -> convert(Int64, x), characteristics[5, :])\n",
    "percentages_of_nodes_in_gcc = characteristics[6, :]\n",
    "percentages_of_edges_in_gcc = characteristics[7, :]\n",
    "smallworldnesses = characteristics[8, :]\n",
    "diameters = map(x -> convert(Int64, x), characteristics[9, :])\n",
    "clustering_coefficients = characteristics[10, :]"
   ]
  },
  {
   "cell_type": "code",
   "execution_count": null,
   "metadata": {},
   "outputs": [],
   "source": [
    "using Pkg\n",
    "Pkg.add(\"ForwardDiff\")"
   ]
  },
  {
   "cell_type": "code",
   "execution_count": null,
   "metadata": {},
   "outputs": [],
   "source": [
    "diff(nums_connected_components)"
   ]
  },
  {
   "cell_type": "code",
   "execution_count": null,
   "metadata": {},
   "outputs": [],
   "source": [
    "findall(diff(nums_connected_components) .!= 0)"
   ]
  },
  {
   "cell_type": "code",
   "execution_count": null,
   "metadata": {},
   "outputs": [],
   "source": [
    "findmax(diff(graph_densities))"
   ]
  },
  {
   "cell_type": "code",
   "execution_count": null,
   "metadata": {},
   "outputs": [],
   "source": [
    "using Plots\n",
    "\n",
    "plot_shell_num_nodes = scatter(ks, nums_nodes, xlabel=\"k\", ylabel=\"number of nodes\", legend=false)\n",
    "plot_shell_num_edges = scatter(ks, nums_edges, xlabel=\"k\", ylabel=\"number of edges\", legend=false)\n",
    "plot_shell_graph_density = scatter(ks, graph_densities, xlabel=\"k\", ylabel=\"graph density\", legend=false)\n",
    "plot_shell_num_connected_components = scatter(ks, nums_connected_components, xlabel=\"k\", ylabel=\"number of connected components\", legend=false)\n",
    "plot_shell_percentage_of_nodes_in_gcc = scatter(ks, percentages_of_nodes_in_gcc, xlabel=\"k\", ylabel=\"percentage of nodes in gcc\", legend=false)\n",
    "plot_shell_percentage_of_edges_in_gcc = scatter(ks, percentages_of_edges_in_gcc, xlabel=\"k\", ylabel=\"percentage of edges in gcc\", legend=false)\n",
    "plot_shell_smallworldness = scatter(ks, smallworldnesses, xlabel=\"k\", ylabel=\"smallworldness\", legend=false)\n",
    "plot_shell_diameter = scatter(ks, diameters, xlabel=\"k\", ylabel=\"diameter\", legend=false)\n",
    "plot_shell_clustering_coefficient = scatter(ks, clustering_coefficients, xlabel=\"k\", ylabel=\"clustering coefficient\", legend=false)\n",
    "\n",
    "plot(plot_shell_num_nodes, plot_shell_num_edges, plot_shell_graph_density, plot_shell_num_connected_components, plot_shell_percentage_of_nodes_in_gcc, plot_shell_percentage_of_edges_in_gcc, plot_shell_smallworldness, plot_shell_diameter, plot_shell_clustering_coefficient, layout=(3, 3), size=(1200, 800))\n",
    "\n",
    "# Plots.svg(\"deezer_plots/characteristics.svg\")\n",
    "Plots.png(\"deezer_plots/characteristics.png\")"
   ]
  }
 ],
 "metadata": {
  "kernelspec": {
   "display_name": "Julia 1.9.2",
   "language": "julia",
   "name": "julia-1.9"
  },
  "language_info": {
   "file_extension": ".jl",
   "mimetype": "application/julia",
   "name": "julia",
   "version": "1.9.2"
  },
  "orig_nbformat": 4
 },
 "nbformat": 4,
 "nbformat_minor": 2
}
